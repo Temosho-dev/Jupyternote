{
 "cells": [
  {
   "cell_type": "code",
   "execution_count": 8,
   "metadata": {},
   "outputs": [],
   "source": [
    "import pandas as pd\n",
    "\n",
    "df = pd.read_excel('C:/Users/a236885/Desktop/Temosho3dvisual.xlsx')\n"
   ]
  },
  {
   "cell_type": "code",
   "execution_count": 9,
   "metadata": {},
   "outputs": [
    {
     "data": {
      "text/plain": [
       "pandas.core.frame.DataFrame"
      ]
     },
     "execution_count": 9,
     "metadata": {},
     "output_type": "execute_result"
    }
   ],
   "source": [
    "type(df)"
   ]
  },
  {
   "cell_type": "code",
   "execution_count": 10,
   "metadata": {},
   "outputs": [
    {
     "data": {
      "text/html": [
       "<div>\n",
       "<style scoped>\n",
       "    .dataframe tbody tr th:only-of-type {\n",
       "        vertical-align: middle;\n",
       "    }\n",
       "\n",
       "    .dataframe tbody tr th {\n",
       "        vertical-align: top;\n",
       "    }\n",
       "\n",
       "    .dataframe thead th {\n",
       "        text-align: right;\n",
       "    }\n",
       "</style>\n",
       "<table border=\"1\" class=\"dataframe\">\n",
       "  <thead>\n",
       "    <tr style=\"text-align: right;\">\n",
       "      <th></th>\n",
       "      <th>PersonnelNumber</th>\n",
       "      <th>EmployeeGrade</th>\n",
       "      <th>LengthOfService</th>\n",
       "      <th>Age</th>\n",
       "      <th>EEOccupationalLevelKey</th>\n",
       "      <th>LevelBand</th>\n",
       "    </tr>\n",
       "  </thead>\n",
       "  <tbody>\n",
       "    <tr>\n",
       "      <th>0</th>\n",
       "      <td>109204</td>\n",
       "      <td>SBG07</td>\n",
       "      <td>20</td>\n",
       "      <td>60</td>\n",
       "      <td>1</td>\n",
       "      <td>General</td>\n",
       "    </tr>\n",
       "    <tr>\n",
       "      <th>1</th>\n",
       "      <td>101058</td>\n",
       "      <td>EM05</td>\n",
       "      <td>23</td>\n",
       "      <td>41</td>\n",
       "      <td>3</td>\n",
       "      <td>Senior Manager</td>\n",
       "    </tr>\n",
       "    <tr>\n",
       "      <th>2</th>\n",
       "      <td>156688</td>\n",
       "      <td>SBG10</td>\n",
       "      <td>12</td>\n",
       "      <td>31</td>\n",
       "      <td>5</td>\n",
       "      <td>Junior Manager</td>\n",
       "    </tr>\n",
       "    <tr>\n",
       "      <th>3</th>\n",
       "      <td>159748</td>\n",
       "      <td>SBG10</td>\n",
       "      <td>1</td>\n",
       "      <td>33</td>\n",
       "      <td>5</td>\n",
       "      <td>Junior Manager</td>\n",
       "    </tr>\n",
       "    <tr>\n",
       "      <th>4</th>\n",
       "      <td>209182</td>\n",
       "      <td>SBG07</td>\n",
       "      <td>5</td>\n",
       "      <td>35</td>\n",
       "      <td>1</td>\n",
       "      <td>General</td>\n",
       "    </tr>\n",
       "  </tbody>\n",
       "</table>\n",
       "</div>"
      ],
      "text/plain": [
       "   PersonnelNumber EmployeeGrade  LengthOfService  Age  \\\n",
       "0           109204         SBG07               20   60   \n",
       "1           101058          EM05               23   41   \n",
       "2           156688         SBG10               12   31   \n",
       "3           159748         SBG10                1   33   \n",
       "4           209182         SBG07                5   35   \n",
       "\n",
       "   EEOccupationalLevelKey       LevelBand  \n",
       "0                       1         General  \n",
       "1                       3  Senior Manager  \n",
       "2                       5  Junior Manager  \n",
       "3                       5  Junior Manager  \n",
       "4                       1         General  "
      ]
     },
     "execution_count": 10,
     "metadata": {},
     "output_type": "execute_result"
    }
   ],
   "source": [
    "df.head()"
   ]
  },
  {
   "cell_type": "code",
   "execution_count": 11,
   "metadata": {},
   "outputs": [
    {
     "data": {
      "text/html": [
       "<div>\n",
       "<style scoped>\n",
       "    .dataframe tbody tr th:only-of-type {\n",
       "        vertical-align: middle;\n",
       "    }\n",
       "\n",
       "    .dataframe tbody tr th {\n",
       "        vertical-align: top;\n",
       "    }\n",
       "\n",
       "    .dataframe thead th {\n",
       "        text-align: right;\n",
       "    }\n",
       "</style>\n",
       "<table border=\"1\" class=\"dataframe\">\n",
       "  <thead>\n",
       "    <tr style=\"text-align: right;\">\n",
       "      <th></th>\n",
       "      <th>PersonnelNumber</th>\n",
       "      <th>EmployeeGrade</th>\n",
       "      <th>LengthOfService</th>\n",
       "      <th>Age</th>\n",
       "      <th>EEOccupationalLevelKey</th>\n",
       "      <th>LevelBand</th>\n",
       "    </tr>\n",
       "  </thead>\n",
       "  <tbody>\n",
       "    <tr>\n",
       "      <th>30319</th>\n",
       "      <td>154444</td>\n",
       "      <td>SBG12</td>\n",
       "      <td>12</td>\n",
       "      <td>46</td>\n",
       "      <td>6</td>\n",
       "      <td>Middle Manager</td>\n",
       "    </tr>\n",
       "    <tr>\n",
       "      <th>30320</th>\n",
       "      <td>219536</td>\n",
       "      <td>SBG06</td>\n",
       "      <td>4</td>\n",
       "      <td>29</td>\n",
       "      <td>2</td>\n",
       "      <td>General</td>\n",
       "    </tr>\n",
       "    <tr>\n",
       "      <th>30321</th>\n",
       "      <td>58064</td>\n",
       "      <td>SBG10</td>\n",
       "      <td>17</td>\n",
       "      <td>61</td>\n",
       "      <td>5</td>\n",
       "      <td>Junior Manager</td>\n",
       "    </tr>\n",
       "    <tr>\n",
       "      <th>30322</th>\n",
       "      <td>116188</td>\n",
       "      <td>SBG09</td>\n",
       "      <td>4</td>\n",
       "      <td>38</td>\n",
       "      <td>5</td>\n",
       "      <td>Junior Manager</td>\n",
       "    </tr>\n",
       "    <tr>\n",
       "      <th>30323</th>\n",
       "      <td>197139</td>\n",
       "      <td>SBG13</td>\n",
       "      <td>7</td>\n",
       "      <td>45</td>\n",
       "      <td>3</td>\n",
       "      <td>Senior Manager</td>\n",
       "    </tr>\n",
       "  </tbody>\n",
       "</table>\n",
       "</div>"
      ],
      "text/plain": [
       "       PersonnelNumber EmployeeGrade  LengthOfService  Age  \\\n",
       "30319           154444         SBG12               12   46   \n",
       "30320           219536         SBG06                4   29   \n",
       "30321            58064         SBG10               17   61   \n",
       "30322           116188         SBG09                4   38   \n",
       "30323           197139         SBG13                7   45   \n",
       "\n",
       "       EEOccupationalLevelKey       LevelBand  \n",
       "30319                       6  Middle Manager  \n",
       "30320                       2         General  \n",
       "30321                       5  Junior Manager  \n",
       "30322                       5  Junior Manager  \n",
       "30323                       3  Senior Manager  "
      ]
     },
     "execution_count": 11,
     "metadata": {},
     "output_type": "execute_result"
    }
   ],
   "source": [
    "df.tail()"
   ]
  },
  {
   "cell_type": "code",
   "execution_count": 12,
   "metadata": {},
   "outputs": [
    {
     "data": {
      "text/plain": [
       "(30324, 6)"
      ]
     },
     "execution_count": 12,
     "metadata": {},
     "output_type": "execute_result"
    }
   ],
   "source": [
    "df.shape"
   ]
  },
  {
   "cell_type": "code",
   "execution_count": 13,
   "metadata": {
    "scrolled": false
   },
   "outputs": [
    {
     "name": "stdout",
     "output_type": "stream",
     "text": [
      "<class 'pandas.core.frame.DataFrame'>\n",
      "RangeIndex: 30324 entries, 0 to 30323\n",
      "Data columns (total 6 columns):\n",
      "PersonnelNumber           30324 non-null int64\n",
      "EmployeeGrade             30324 non-null object\n",
      "LengthOfService           30324 non-null int64\n",
      "Age                       30324 non-null int64\n",
      "EEOccupationalLevelKey    30324 non-null int64\n",
      "LevelBand                 30324 non-null object\n",
      "dtypes: int64(4), object(2)\n",
      "memory usage: 1.4+ MB\n"
     ]
    }
   ],
   "source": [
    "df.info()"
   ]
  },
  {
   "cell_type": "code",
   "execution_count": 14,
   "metadata": {},
   "outputs": [
    {
     "data": {
      "text/html": [
       "<div>\n",
       "<style scoped>\n",
       "    .dataframe tbody tr th:only-of-type {\n",
       "        vertical-align: middle;\n",
       "    }\n",
       "\n",
       "    .dataframe tbody tr th {\n",
       "        vertical-align: top;\n",
       "    }\n",
       "\n",
       "    .dataframe thead th {\n",
       "        text-align: right;\n",
       "    }\n",
       "</style>\n",
       "<table border=\"1\" class=\"dataframe\">\n",
       "  <thead>\n",
       "    <tr style=\"text-align: right;\">\n",
       "      <th></th>\n",
       "      <th>PersonnelNumber</th>\n",
       "      <th>LengthOfService</th>\n",
       "      <th>Age</th>\n",
       "      <th>EEOccupationalLevelKey</th>\n",
       "    </tr>\n",
       "  </thead>\n",
       "  <tbody>\n",
       "    <tr>\n",
       "      <th>count</th>\n",
       "      <td>30324.000000</td>\n",
       "      <td>30324.000000</td>\n",
       "      <td>30324.000000</td>\n",
       "      <td>30324.000000</td>\n",
       "    </tr>\n",
       "    <tr>\n",
       "      <th>mean</th>\n",
       "      <td>170047.921481</td>\n",
       "      <td>9.159972</td>\n",
       "      <td>37.544156</td>\n",
       "      <td>3.589797</td>\n",
       "    </tr>\n",
       "    <tr>\n",
       "      <th>std</th>\n",
       "      <td>56798.278105</td>\n",
       "      <td>8.271410</td>\n",
       "      <td>9.024851</td>\n",
       "      <td>2.012611</td>\n",
       "    </tr>\n",
       "    <tr>\n",
       "      <th>min</th>\n",
       "      <td>44.000000</td>\n",
       "      <td>0.000000</td>\n",
       "      <td>20.000000</td>\n",
       "      <td>1.000000</td>\n",
       "    </tr>\n",
       "    <tr>\n",
       "      <th>25%</th>\n",
       "      <td>135702.750000</td>\n",
       "      <td>3.000000</td>\n",
       "      <td>31.000000</td>\n",
       "      <td>2.000000</td>\n",
       "    </tr>\n",
       "    <tr>\n",
       "      <th>50%</th>\n",
       "      <td>184292.000000</td>\n",
       "      <td>6.000000</td>\n",
       "      <td>36.000000</td>\n",
       "      <td>3.000000</td>\n",
       "    </tr>\n",
       "    <tr>\n",
       "      <th>75%</th>\n",
       "      <td>216462.750000</td>\n",
       "      <td>13.000000</td>\n",
       "      <td>44.000000</td>\n",
       "      <td>6.000000</td>\n",
       "    </tr>\n",
       "    <tr>\n",
       "      <th>max</th>\n",
       "      <td>238578.000000</td>\n",
       "      <td>46.000000</td>\n",
       "      <td>64.000000</td>\n",
       "      <td>6.000000</td>\n",
       "    </tr>\n",
       "  </tbody>\n",
       "</table>\n",
       "</div>"
      ],
      "text/plain": [
       "       PersonnelNumber  LengthOfService           Age  EEOccupationalLevelKey\n",
       "count     30324.000000     30324.000000  30324.000000            30324.000000\n",
       "mean     170047.921481         9.159972     37.544156                3.589797\n",
       "std       56798.278105         8.271410      9.024851                2.012611\n",
       "min          44.000000         0.000000     20.000000                1.000000\n",
       "25%      135702.750000         3.000000     31.000000                2.000000\n",
       "50%      184292.000000         6.000000     36.000000                3.000000\n",
       "75%      216462.750000        13.000000     44.000000                6.000000\n",
       "max      238578.000000        46.000000     64.000000                6.000000"
      ]
     },
     "execution_count": 14,
     "metadata": {},
     "output_type": "execute_result"
    }
   ],
   "source": [
    "df.describe()"
   ]
  },
  {
   "cell_type": "code",
   "execution_count": 15,
   "metadata": {},
   "outputs": [
    {
     "data": {
      "text/html": [
       "<div>\n",
       "<style scoped>\n",
       "    .dataframe tbody tr th:only-of-type {\n",
       "        vertical-align: middle;\n",
       "    }\n",
       "\n",
       "    .dataframe tbody tr th {\n",
       "        vertical-align: top;\n",
       "    }\n",
       "\n",
       "    .dataframe thead th {\n",
       "        text-align: right;\n",
       "    }\n",
       "</style>\n",
       "<table border=\"1\" class=\"dataframe\">\n",
       "  <thead>\n",
       "    <tr style=\"text-align: right;\">\n",
       "      <th></th>\n",
       "      <th>PersonnelNumber</th>\n",
       "      <th>LengthOfService</th>\n",
       "      <th>Age</th>\n",
       "      <th>EEOccupationalLevelKey</th>\n",
       "    </tr>\n",
       "  </thead>\n",
       "  <tbody>\n",
       "    <tr>\n",
       "      <th>PersonnelNumber</th>\n",
       "      <td>1.000000</td>\n",
       "      <td>-0.856308</td>\n",
       "      <td>-0.720200</td>\n",
       "      <td>-0.191809</td>\n",
       "    </tr>\n",
       "    <tr>\n",
       "      <th>LengthOfService</th>\n",
       "      <td>-0.856308</td>\n",
       "      <td>1.000000</td>\n",
       "      <td>0.676157</td>\n",
       "      <td>0.176770</td>\n",
       "    </tr>\n",
       "    <tr>\n",
       "      <th>Age</th>\n",
       "      <td>-0.720200</td>\n",
       "      <td>0.676157</td>\n",
       "      <td>1.000000</td>\n",
       "      <td>0.206720</td>\n",
       "    </tr>\n",
       "    <tr>\n",
       "      <th>EEOccupationalLevelKey</th>\n",
       "      <td>-0.191809</td>\n",
       "      <td>0.176770</td>\n",
       "      <td>0.206720</td>\n",
       "      <td>1.000000</td>\n",
       "    </tr>\n",
       "  </tbody>\n",
       "</table>\n",
       "</div>"
      ],
      "text/plain": [
       "                        PersonnelNumber  LengthOfService       Age  \\\n",
       "PersonnelNumber                1.000000        -0.856308 -0.720200   \n",
       "LengthOfService               -0.856308         1.000000  0.676157   \n",
       "Age                           -0.720200         0.676157  1.000000   \n",
       "EEOccupationalLevelKey        -0.191809         0.176770  0.206720   \n",
       "\n",
       "                        EEOccupationalLevelKey  \n",
       "PersonnelNumber                      -0.191809  \n",
       "LengthOfService                       0.176770  \n",
       "Age                                   0.206720  \n",
       "EEOccupationalLevelKey                1.000000  "
      ]
     },
     "execution_count": 15,
     "metadata": {},
     "output_type": "execute_result"
    }
   ],
   "source": [
    "cdf = df[['PersonnelNumber','LengthOfService','Age','EEOccupationalLevelKey']].corr()\n",
    "cdf"
   ]
  },
  {
   "cell_type": "code",
   "execution_count": 24,
   "metadata": {},
   "outputs": [
    {
     "data": {
      "text/html": [
       "<div>\n",
       "<style scoped>\n",
       "    .dataframe tbody tr th:only-of-type {\n",
       "        vertical-align: middle;\n",
       "    }\n",
       "\n",
       "    .dataframe tbody tr th {\n",
       "        vertical-align: top;\n",
       "    }\n",
       "\n",
       "    .dataframe thead th {\n",
       "        text-align: right;\n",
       "    }\n",
       "</style>\n",
       "<table border=\"1\" class=\"dataframe\">\n",
       "  <thead>\n",
       "    <tr style=\"text-align: right;\">\n",
       "      <th></th>\n",
       "      <th>PersonnelNumber</th>\n",
       "      <th>EmployeeGrade</th>\n",
       "      <th>LengthOfService</th>\n",
       "      <th>Age</th>\n",
       "      <th>EEOccupationalLevelKey</th>\n",
       "      <th>LevelBand</th>\n",
       "    </tr>\n",
       "  </thead>\n",
       "  <tbody>\n",
       "    <tr>\n",
       "      <th>124</th>\n",
       "      <td>29147</td>\n",
       "      <td>SBG12</td>\n",
       "      <td>33</td>\n",
       "      <td>63</td>\n",
       "      <td>6</td>\n",
       "      <td>Middle Manager</td>\n",
       "    </tr>\n",
       "    <tr>\n",
       "      <th>1680</th>\n",
       "      <td>145508</td>\n",
       "      <td>SBG13</td>\n",
       "      <td>12</td>\n",
       "      <td>63</td>\n",
       "      <td>3</td>\n",
       "      <td>Senior Manager</td>\n",
       "    </tr>\n",
       "    <tr>\n",
       "      <th>1840</th>\n",
       "      <td>142416</td>\n",
       "      <td>SBG12</td>\n",
       "      <td>14</td>\n",
       "      <td>63</td>\n",
       "      <td>6</td>\n",
       "      <td>Middle Manager</td>\n",
       "    </tr>\n",
       "    <tr>\n",
       "      <th>1883</th>\n",
       "      <td>85378</td>\n",
       "      <td>SBG13</td>\n",
       "      <td>24</td>\n",
       "      <td>64</td>\n",
       "      <td>3</td>\n",
       "      <td>Senior Manager</td>\n",
       "    </tr>\n",
       "    <tr>\n",
       "      <th>2048</th>\n",
       "      <td>66581</td>\n",
       "      <td>SBG06</td>\n",
       "      <td>39</td>\n",
       "      <td>64</td>\n",
       "      <td>2</td>\n",
       "      <td>General</td>\n",
       "    </tr>\n",
       "    <tr>\n",
       "      <th>3034</th>\n",
       "      <td>23114</td>\n",
       "      <td>SBG13</td>\n",
       "      <td>43</td>\n",
       "      <td>64</td>\n",
       "      <td>3</td>\n",
       "      <td>Senior Manager</td>\n",
       "    </tr>\n",
       "    <tr>\n",
       "      <th>4743</th>\n",
       "      <td>197305</td>\n",
       "      <td>SBG08</td>\n",
       "      <td>7</td>\n",
       "      <td>63</td>\n",
       "      <td>1</td>\n",
       "      <td>General</td>\n",
       "    </tr>\n",
       "    <tr>\n",
       "      <th>4967</th>\n",
       "      <td>111189</td>\n",
       "      <td>SBG05</td>\n",
       "      <td>20</td>\n",
       "      <td>63</td>\n",
       "      <td>2</td>\n",
       "      <td>General</td>\n",
       "    </tr>\n",
       "    <tr>\n",
       "      <th>8510</th>\n",
       "      <td>116935</td>\n",
       "      <td>SBG11</td>\n",
       "      <td>31</td>\n",
       "      <td>63</td>\n",
       "      <td>6</td>\n",
       "      <td>Middle Manager</td>\n",
       "    </tr>\n",
       "    <tr>\n",
       "      <th>8528</th>\n",
       "      <td>207280</td>\n",
       "      <td>SBG11</td>\n",
       "      <td>5</td>\n",
       "      <td>63</td>\n",
       "      <td>6</td>\n",
       "      <td>Middle Manager</td>\n",
       "    </tr>\n",
       "    <tr>\n",
       "      <th>8551</th>\n",
       "      <td>101400</td>\n",
       "      <td>SBG13</td>\n",
       "      <td>23</td>\n",
       "      <td>63</td>\n",
       "      <td>3</td>\n",
       "      <td>Senior Manager</td>\n",
       "    </tr>\n",
       "    <tr>\n",
       "      <th>11087</th>\n",
       "      <td>124884</td>\n",
       "      <td>SBG12</td>\n",
       "      <td>12</td>\n",
       "      <td>64</td>\n",
       "      <td>6</td>\n",
       "      <td>Middle Manager</td>\n",
       "    </tr>\n",
       "    <tr>\n",
       "      <th>11388</th>\n",
       "      <td>228636</td>\n",
       "      <td>SBG12</td>\n",
       "      <td>2</td>\n",
       "      <td>64</td>\n",
       "      <td>6</td>\n",
       "      <td>Middle Manager</td>\n",
       "    </tr>\n",
       "    <tr>\n",
       "      <th>11462</th>\n",
       "      <td>15243</td>\n",
       "      <td>SBG12</td>\n",
       "      <td>11</td>\n",
       "      <td>63</td>\n",
       "      <td>6</td>\n",
       "      <td>Middle Manager</td>\n",
       "    </tr>\n",
       "    <tr>\n",
       "      <th>12182</th>\n",
       "      <td>115913</td>\n",
       "      <td>SBG12</td>\n",
       "      <td>23</td>\n",
       "      <td>63</td>\n",
       "      <td>6</td>\n",
       "      <td>Middle Manager</td>\n",
       "    </tr>\n",
       "    <tr>\n",
       "      <th>13159</th>\n",
       "      <td>21152</td>\n",
       "      <td>SBG10</td>\n",
       "      <td>46</td>\n",
       "      <td>63</td>\n",
       "      <td>5</td>\n",
       "      <td>Junior Manager</td>\n",
       "    </tr>\n",
       "    <tr>\n",
       "      <th>13740</th>\n",
       "      <td>105130</td>\n",
       "      <td>SBG05</td>\n",
       "      <td>22</td>\n",
       "      <td>63</td>\n",
       "      <td>2</td>\n",
       "      <td>General</td>\n",
       "    </tr>\n",
       "    <tr>\n",
       "      <th>14421</th>\n",
       "      <td>19278</td>\n",
       "      <td>SBG13</td>\n",
       "      <td>30</td>\n",
       "      <td>64</td>\n",
       "      <td>3</td>\n",
       "      <td>Senior Manager</td>\n",
       "    </tr>\n",
       "    <tr>\n",
       "      <th>14572</th>\n",
       "      <td>158555</td>\n",
       "      <td>SBG12</td>\n",
       "      <td>2</td>\n",
       "      <td>64</td>\n",
       "      <td>6</td>\n",
       "      <td>Middle Manager</td>\n",
       "    </tr>\n",
       "    <tr>\n",
       "      <th>15993</th>\n",
       "      <td>46388</td>\n",
       "      <td>SBG10</td>\n",
       "      <td>31</td>\n",
       "      <td>63</td>\n",
       "      <td>5</td>\n",
       "      <td>Junior Manager</td>\n",
       "    </tr>\n",
       "    <tr>\n",
       "      <th>16845</th>\n",
       "      <td>127532</td>\n",
       "      <td>SBG11</td>\n",
       "      <td>16</td>\n",
       "      <td>63</td>\n",
       "      <td>6</td>\n",
       "      <td>Middle Manager</td>\n",
       "    </tr>\n",
       "    <tr>\n",
       "      <th>17073</th>\n",
       "      <td>134269</td>\n",
       "      <td>SBG12</td>\n",
       "      <td>15</td>\n",
       "      <td>63</td>\n",
       "      <td>6</td>\n",
       "      <td>Middle Manager</td>\n",
       "    </tr>\n",
       "    <tr>\n",
       "      <th>18859</th>\n",
       "      <td>85550</td>\n",
       "      <td>SBG09</td>\n",
       "      <td>33</td>\n",
       "      <td>63</td>\n",
       "      <td>5</td>\n",
       "      <td>Junior Manager</td>\n",
       "    </tr>\n",
       "    <tr>\n",
       "      <th>20633</th>\n",
       "      <td>120960</td>\n",
       "      <td>SBG13</td>\n",
       "      <td>18</td>\n",
       "      <td>63</td>\n",
       "      <td>3</td>\n",
       "      <td>Senior Manager</td>\n",
       "    </tr>\n",
       "    <tr>\n",
       "      <th>21927</th>\n",
       "      <td>20448</td>\n",
       "      <td>SBG07</td>\n",
       "      <td>24</td>\n",
       "      <td>64</td>\n",
       "      <td>1</td>\n",
       "      <td>General</td>\n",
       "    </tr>\n",
       "    <tr>\n",
       "      <th>22386</th>\n",
       "      <td>87563</td>\n",
       "      <td>SBG09</td>\n",
       "      <td>29</td>\n",
       "      <td>63</td>\n",
       "      <td>5</td>\n",
       "      <td>Junior Manager</td>\n",
       "    </tr>\n",
       "    <tr>\n",
       "      <th>22652</th>\n",
       "      <td>125927</td>\n",
       "      <td>SBG06</td>\n",
       "      <td>17</td>\n",
       "      <td>63</td>\n",
       "      <td>2</td>\n",
       "      <td>General</td>\n",
       "    </tr>\n",
       "    <tr>\n",
       "      <th>23924</th>\n",
       "      <td>25586</td>\n",
       "      <td>SBG08</td>\n",
       "      <td>18</td>\n",
       "      <td>64</td>\n",
       "      <td>1</td>\n",
       "      <td>General</td>\n",
       "    </tr>\n",
       "    <tr>\n",
       "      <th>24578</th>\n",
       "      <td>99393</td>\n",
       "      <td>SBG09</td>\n",
       "      <td>36</td>\n",
       "      <td>63</td>\n",
       "      <td>5</td>\n",
       "      <td>Junior Manager</td>\n",
       "    </tr>\n",
       "    <tr>\n",
       "      <th>25532</th>\n",
       "      <td>39625</td>\n",
       "      <td>SBG12</td>\n",
       "      <td>11</td>\n",
       "      <td>64</td>\n",
       "      <td>6</td>\n",
       "      <td>Middle Manager</td>\n",
       "    </tr>\n",
       "    <tr>\n",
       "      <th>25574</th>\n",
       "      <td>98985</td>\n",
       "      <td>SBG13</td>\n",
       "      <td>45</td>\n",
       "      <td>64</td>\n",
       "      <td>3</td>\n",
       "      <td>Senior Manager</td>\n",
       "    </tr>\n",
       "    <tr>\n",
       "      <th>26050</th>\n",
       "      <td>92558</td>\n",
       "      <td>SBG10</td>\n",
       "      <td>29</td>\n",
       "      <td>63</td>\n",
       "      <td>5</td>\n",
       "      <td>Junior Manager</td>\n",
       "    </tr>\n",
       "    <tr>\n",
       "      <th>27085</th>\n",
       "      <td>2642</td>\n",
       "      <td>SBG11</td>\n",
       "      <td>25</td>\n",
       "      <td>63</td>\n",
       "      <td>6</td>\n",
       "      <td>Middle Manager</td>\n",
       "    </tr>\n",
       "    <tr>\n",
       "      <th>27700</th>\n",
       "      <td>46492</td>\n",
       "      <td>SBG13</td>\n",
       "      <td>36</td>\n",
       "      <td>64</td>\n",
       "      <td>3</td>\n",
       "      <td>Senior Manager</td>\n",
       "    </tr>\n",
       "    <tr>\n",
       "      <th>27908</th>\n",
       "      <td>155357</td>\n",
       "      <td>SBG11</td>\n",
       "      <td>12</td>\n",
       "      <td>63</td>\n",
       "      <td>6</td>\n",
       "      <td>Middle Manager</td>\n",
       "    </tr>\n",
       "    <tr>\n",
       "      <th>29203</th>\n",
       "      <td>37379</td>\n",
       "      <td>SBG06</td>\n",
       "      <td>24</td>\n",
       "      <td>63</td>\n",
       "      <td>2</td>\n",
       "      <td>General</td>\n",
       "    </tr>\n",
       "  </tbody>\n",
       "</table>\n",
       "</div>"
      ],
      "text/plain": [
       "       PersonnelNumber EmployeeGrade  LengthOfService  Age  \\\n",
       "124              29147         SBG12               33   63   \n",
       "1680            145508         SBG13               12   63   \n",
       "1840            142416         SBG12               14   63   \n",
       "1883             85378         SBG13               24   64   \n",
       "2048             66581         SBG06               39   64   \n",
       "3034             23114         SBG13               43   64   \n",
       "4743            197305         SBG08                7   63   \n",
       "4967            111189         SBG05               20   63   \n",
       "8510            116935         SBG11               31   63   \n",
       "8528            207280         SBG11                5   63   \n",
       "8551            101400         SBG13               23   63   \n",
       "11087           124884         SBG12               12   64   \n",
       "11388           228636         SBG12                2   64   \n",
       "11462            15243         SBG12               11   63   \n",
       "12182           115913         SBG12               23   63   \n",
       "13159            21152         SBG10               46   63   \n",
       "13740           105130         SBG05               22   63   \n",
       "14421            19278         SBG13               30   64   \n",
       "14572           158555         SBG12                2   64   \n",
       "15993            46388         SBG10               31   63   \n",
       "16845           127532         SBG11               16   63   \n",
       "17073           134269         SBG12               15   63   \n",
       "18859            85550         SBG09               33   63   \n",
       "20633           120960         SBG13               18   63   \n",
       "21927            20448         SBG07               24   64   \n",
       "22386            87563         SBG09               29   63   \n",
       "22652           125927         SBG06               17   63   \n",
       "23924            25586         SBG08               18   64   \n",
       "24578            99393         SBG09               36   63   \n",
       "25532            39625         SBG12               11   64   \n",
       "25574            98985         SBG13               45   64   \n",
       "26050            92558         SBG10               29   63   \n",
       "27085             2642         SBG11               25   63   \n",
       "27700            46492         SBG13               36   64   \n",
       "27908           155357         SBG11               12   63   \n",
       "29203            37379         SBG06               24   63   \n",
       "\n",
       "       EEOccupationalLevelKey       LevelBand  \n",
       "124                         6  Middle Manager  \n",
       "1680                        3  Senior Manager  \n",
       "1840                        6  Middle Manager  \n",
       "1883                        3  Senior Manager  \n",
       "2048                        2         General  \n",
       "3034                        3  Senior Manager  \n",
       "4743                        1         General  \n",
       "4967                        2         General  \n",
       "8510                        6  Middle Manager  \n",
       "8528                        6  Middle Manager  \n",
       "8551                        3  Senior Manager  \n",
       "11087                       6  Middle Manager  \n",
       "11388                       6  Middle Manager  \n",
       "11462                       6  Middle Manager  \n",
       "12182                       6  Middle Manager  \n",
       "13159                       5  Junior Manager  \n",
       "13740                       2         General  \n",
       "14421                       3  Senior Manager  \n",
       "14572                       6  Middle Manager  \n",
       "15993                       5  Junior Manager  \n",
       "16845                       6  Middle Manager  \n",
       "17073                       6  Middle Manager  \n",
       "18859                       5  Junior Manager  \n",
       "20633                       3  Senior Manager  \n",
       "21927                       1         General  \n",
       "22386                       5  Junior Manager  \n",
       "22652                       2         General  \n",
       "23924                       1         General  \n",
       "24578                       5  Junior Manager  \n",
       "25532                       6  Middle Manager  \n",
       "25574                       3  Senior Manager  \n",
       "26050                       5  Junior Manager  \n",
       "27085                       6  Middle Manager  \n",
       "27700                       3  Senior Manager  \n",
       "27908                       6  Middle Manager  \n",
       "29203                       2         General  "
      ]
     },
     "execution_count": 24,
     "metadata": {},
     "output_type": "execute_result"
    }
   ],
   "source": [
    "filter1 = df['Age'] > 62\n",
    "filtered_new = df[filter1]\n",
    "filtered_new\n"
   ]
  },
  {
   "cell_type": "code",
   "execution_count": 25,
   "metadata": {},
   "outputs": [],
   "source": [
    "column1 = df['Age']\n",
    "column2 = df['LengthOfService']\n",
    "column3 = df['EEOccupationalLevelKey']"
   ]
  },
  {
   "cell_type": "code",
   "execution_count": 26,
   "metadata": {},
   "outputs": [
    {
     "data": {
      "text/plain": [
       "<mpl_toolkits.mplot3d.art3d.Path3DCollection at 0x1fd69eb7b38>"
      ]
     },
     "execution_count": 26,
     "metadata": {},
     "output_type": "execute_result"
    },
    {
     "data": {
      "image/png": "[encoded data removed]",
      "text/plain": [
       "<Figure size 432x288 with 1 Axes>"
      ]
     },
     "metadata": {
      "needs_background": "light"
     },
     "output_type": "display_data"
    }
   ],
   "source": [
    "from mpl_toolkits import mplot3d\n",
    "from mpl_toolkits.mplot3d import Axes3D\n",
    "%matplotlib inline\n",
    "import numpy as np\n",
    "import matplotlib.pyplot as plt\n",
    "\n",
    "\n",
    "fig = plt.figure()\n",
    "ax = fig.add_subplot(111, projection='3d')\n",
    "\n",
    "ax = plt.axes(projection='3d')\n",
    "\n",
    "\n",
    "# Data for three-dimensional scattered points\n",
    "xdata = column3\n",
    "ydata = column1\n",
    "zdata = column2\n",
    "\n",
    "ax.set_xlabel('Ekey')\n",
    "ax.set_ylabel('Age')\n",
    "ax.set_zlabel('ser')\n",
    "\n",
    "\n",
    "\n",
    "ax.scatter3D(xdata, ydata, zdata, c=np.linalg.norm([xdata,ydata,zdata],axis = 0))"
   ]
  },
  {
   "cell_type": "code",
   "execution_count": 27,
   "metadata": {},
   "outputs": [],
   "source": [
    "my_tab = pd.crosstab(index=df[\"LevelBand\"],  # Make a crosstab\n",
    "                              columns=df[\"EEOccupationalLevelKey\"],\n",
    "                    margins = True) "
   ]
  },
  {
   "cell_type": "code",
   "execution_count": 28,
   "metadata": {},
   "outputs": [
    {
     "data": {
      "text/html": [
       "<div>\n",
       "<style scoped>\n",
       "    .dataframe tbody tr th:only-of-type {\n",
       "        vertical-align: middle;\n",
       "    }\n",
       "\n",
       "    .dataframe tbody tr th {\n",
       "        vertical-align: top;\n",
       "    }\n",
       "\n",
       "    .dataframe thead th {\n",
       "        text-align: right;\n",
       "    }\n",
       "</style>\n",
       "<table border=\"1\" class=\"dataframe\">\n",
       "  <thead>\n",
       "    <tr style=\"text-align: right;\">\n",
       "      <th>EEOccupationalLevelKey</th>\n",
       "      <th>1</th>\n",
       "      <th>2</th>\n",
       "      <th>3</th>\n",
       "      <th>4</th>\n",
       "      <th>5</th>\n",
       "      <th>6</th>\n",
       "      <th>All</th>\n",
       "    </tr>\n",
       "    <tr>\n",
       "      <th>LevelBand</th>\n",
       "      <th></th>\n",
       "      <th></th>\n",
       "      <th></th>\n",
       "      <th></th>\n",
       "      <th></th>\n",
       "      <th></th>\n",
       "      <th></th>\n",
       "    </tr>\n",
       "  </thead>\n",
       "  <tbody>\n",
       "    <tr>\n",
       "      <th>General</th>\n",
       "      <td>7274</td>\n",
       "      <td>5200</td>\n",
       "      <td>0</td>\n",
       "      <td>0</td>\n",
       "      <td>0</td>\n",
       "      <td>0</td>\n",
       "      <td>12474</td>\n",
       "    </tr>\n",
       "    <tr>\n",
       "      <th>Junior Manager</th>\n",
       "      <td>0</td>\n",
       "      <td>0</td>\n",
       "      <td>0</td>\n",
       "      <td>0</td>\n",
       "      <td>6867</td>\n",
       "      <td>0</td>\n",
       "      <td>6867</td>\n",
       "    </tr>\n",
       "    <tr>\n",
       "      <th>Middle Manager</th>\n",
       "      <td>0</td>\n",
       "      <td>0</td>\n",
       "      <td>0</td>\n",
       "      <td>0</td>\n",
       "      <td>0</td>\n",
       "      <td>7952</td>\n",
       "      <td>7952</td>\n",
       "    </tr>\n",
       "    <tr>\n",
       "      <th>Senior Manager</th>\n",
       "      <td>0</td>\n",
       "      <td>0</td>\n",
       "      <td>2988</td>\n",
       "      <td>0</td>\n",
       "      <td>0</td>\n",
       "      <td>0</td>\n",
       "      <td>2988</td>\n",
       "    </tr>\n",
       "    <tr>\n",
       "      <th>Top Manager</th>\n",
       "      <td>0</td>\n",
       "      <td>0</td>\n",
       "      <td>0</td>\n",
       "      <td>43</td>\n",
       "      <td>0</td>\n",
       "      <td>0</td>\n",
       "      <td>43</td>\n",
       "    </tr>\n",
       "    <tr>\n",
       "      <th>All</th>\n",
       "      <td>7274</td>\n",
       "      <td>5200</td>\n",
       "      <td>2988</td>\n",
       "      <td>43</td>\n",
       "      <td>6867</td>\n",
       "      <td>7952</td>\n",
       "      <td>30324</td>\n",
       "    </tr>\n",
       "  </tbody>\n",
       "</table>\n",
       "</div>"
      ],
      "text/plain": [
       "EEOccupationalLevelKey     1     2     3   4     5     6    All\n",
       "LevelBand                                                      \n",
       "General                 7274  5200     0   0     0     0  12474\n",
       "Junior Manager             0     0     0   0  6867     0   6867\n",
       "Middle Manager             0     0     0   0     0  7952   7952\n",
       "Senior Manager             0     0  2988   0     0     0   2988\n",
       "Top Manager                0     0     0  43     0     0     43\n",
       "All                     7274  5200  2988  43  6867  7952  30324"
      ]
     },
     "execution_count": 28,
     "metadata": {},
     "output_type": "execute_result"
    }
   ],
   "source": [
    "my_tab"
   ]
  },
  {
   "cell_type": "code",
   "execution_count": 29,
   "metadata": {},
   "outputs": [
    {
     "data": {
      "text/html": [
       "<div>\n",
       "<style scoped>\n",
       "    .dataframe tbody tr th:only-of-type {\n",
       "        vertical-align: middle;\n",
       "    }\n",
       "\n",
       "    .dataframe tbody tr th {\n",
       "        vertical-align: top;\n",
       "    }\n",
       "\n",
       "    .dataframe thead th {\n",
       "        text-align: right;\n",
       "    }\n",
       "</style>\n",
       "<table border=\"1\" class=\"dataframe\">\n",
       "  <thead>\n",
       "    <tr style=\"text-align: right;\">\n",
       "      <th></th>\n",
       "      <th>PersonnelNumber</th>\n",
       "      <th>EmployeeGrade</th>\n",
       "      <th>LengthOfService</th>\n",
       "      <th>Age</th>\n",
       "      <th>EEOccupationalLevelKey</th>\n",
       "      <th>LevelBand</th>\n",
       "    </tr>\n",
       "  </thead>\n",
       "  <tbody>\n",
       "    <tr>\n",
       "      <th>0</th>\n",
       "      <td>109204</td>\n",
       "      <td>SBG07</td>\n",
       "      <td>20</td>\n",
       "      <td>60</td>\n",
       "      <td>1</td>\n",
       "      <td>General</td>\n",
       "    </tr>\n",
       "    <tr>\n",
       "      <th>1</th>\n",
       "      <td>101058</td>\n",
       "      <td>EM05</td>\n",
       "      <td>23</td>\n",
       "      <td>41</td>\n",
       "      <td>3</td>\n",
       "      <td>Senior Manager</td>\n",
       "    </tr>\n",
       "    <tr>\n",
       "      <th>2</th>\n",
       "      <td>156688</td>\n",
       "      <td>SBG10</td>\n",
       "      <td>12</td>\n",
       "      <td>31</td>\n",
       "      <td>5</td>\n",
       "      <td>Junior Manager</td>\n",
       "    </tr>\n",
       "    <tr>\n",
       "      <th>3</th>\n",
       "      <td>159748</td>\n",
       "      <td>SBG10</td>\n",
       "      <td>1</td>\n",
       "      <td>33</td>\n",
       "      <td>5</td>\n",
       "      <td>Junior Manager</td>\n",
       "    </tr>\n",
       "    <tr>\n",
       "      <th>4</th>\n",
       "      <td>209182</td>\n",
       "      <td>SBG07</td>\n",
       "      <td>5</td>\n",
       "      <td>35</td>\n",
       "      <td>1</td>\n",
       "      <td>General</td>\n",
       "    </tr>\n",
       "  </tbody>\n",
       "</table>\n",
       "</div>"
      ],
      "text/plain": [
       "   PersonnelNumber EmployeeGrade  LengthOfService  Age  \\\n",
       "0           109204         SBG07               20   60   \n",
       "1           101058          EM05               23   41   \n",
       "2           156688         SBG10               12   31   \n",
       "3           159748         SBG10                1   33   \n",
       "4           209182         SBG07                5   35   \n",
       "\n",
       "   EEOccupationalLevelKey       LevelBand  \n",
       "0                       1         General  \n",
       "1                       3  Senior Manager  \n",
       "2                       5  Junior Manager  \n",
       "3                       5  Junior Manager  \n",
       "4                       1         General  "
      ]
     },
     "execution_count": 29,
     "metadata": {},
     "output_type": "execute_result"
    }
   ],
   "source": [
    "df.head()"
   ]
  },
  {
   "cell_type": "code",
   "execution_count": 30,
   "metadata": {},
   "outputs": [
    {
     "data": {
      "text/plain": [
       "[<matplotlib.lines.Line2D at 0x1fd68a149e8>]"
      ]
     },
     "execution_count": 30,
     "metadata": {},
     "output_type": "execute_result"
    },
    {
     "data": {
      "image/png": "[encoded data removed]",
      "text/plain": [
       "<Figure size 432x288 with 1 Axes>"
      ]
     },
     "metadata": {
      "needs_background": "light"
     },
     "output_type": "display_data"
    }
   ],
   "source": [
    "plt.plot(df['Age'],'bo')\n"
   ]
  },
  {
   "cell_type": "code",
   "execution_count": 31,
   "metadata": {},
   "outputs": [
    {
     "data": {
      "text/plain": [
       "[<matplotlib.lines.Line2D at 0x1fd6905e710>]"
      ]
     },
     "execution_count": 31,
     "metadata": {},
     "output_type": "execute_result"
    },
    {
     "data": {
      "image/png": "[encoded data removed]",
      "text/plain": [
       "<Figure size 432x288 with 1 Axes>"
      ]
     },
     "metadata": {
      "needs_background": "light"
     },
     "output_type": "display_data"
    }
   ],
   "source": [
    "plt.plot(df['Age'],df['LengthOfService'],'bo')\n"
   ]
  },
  {
   "cell_type": "code",
   "execution_count": 32,
   "metadata": {},
   "outputs": [
    {
     "data": {
      "text/plain": [
       "[<matplotlib.lines.Line2D at 0x1fd6934ce48>]"
      ]
     },
     "execution_count": 32,
     "metadata": {},
     "output_type": "execute_result"
    },
    {
     "data": {
      "image/png": "[encoded data removed]",
      "text/plain": [
       "<Figure size 432x288 with 1 Axes>"
      ]
     },
     "metadata": {
      "needs_background": "light"
     },
     "output_type": "display_data"
    }
   ],
   "source": [
    "plt.plot(df['LengthOfService'],'bo')"
   ]
  },
  {
   "cell_type": "code",
   "execution_count": 33,
   "metadata": {},
   "outputs": [
    {
     "data": {
      "text/html": [
       "<div>\n",
       "<style scoped>\n",
       "    .dataframe tbody tr th:only-of-type {\n",
       "        vertical-align: middle;\n",
       "    }\n",
       "\n",
       "    .dataframe tbody tr th {\n",
       "        vertical-align: top;\n",
       "    }\n",
       "\n",
       "    .dataframe thead th {\n",
       "        text-align: right;\n",
       "    }\n",
       "</style>\n",
       "<table border=\"1\" class=\"dataframe\">\n",
       "  <thead>\n",
       "    <tr style=\"text-align: right;\">\n",
       "      <th>Age</th>\n",
       "      <th>20</th>\n",
       "      <th>21</th>\n",
       "      <th>22</th>\n",
       "      <th>23</th>\n",
       "      <th>24</th>\n",
       "      <th>25</th>\n",
       "      <th>26</th>\n",
       "      <th>27</th>\n",
       "      <th>28</th>\n",
       "      <th>29</th>\n",
       "      <th>...</th>\n",
       "      <th>56</th>\n",
       "      <th>57</th>\n",
       "      <th>58</th>\n",
       "      <th>59</th>\n",
       "      <th>60</th>\n",
       "      <th>61</th>\n",
       "      <th>62</th>\n",
       "      <th>63</th>\n",
       "      <th>64</th>\n",
       "      <th>All</th>\n",
       "    </tr>\n",
       "    <tr>\n",
       "      <th>LevelBand</th>\n",
       "      <th></th>\n",
       "      <th></th>\n",
       "      <th></th>\n",
       "      <th></th>\n",
       "      <th></th>\n",
       "      <th></th>\n",
       "      <th></th>\n",
       "      <th></th>\n",
       "      <th></th>\n",
       "      <th></th>\n",
       "      <th></th>\n",
       "      <th></th>\n",
       "      <th></th>\n",
       "      <th></th>\n",
       "      <th></th>\n",
       "      <th></th>\n",
       "      <th></th>\n",
       "      <th></th>\n",
       "      <th></th>\n",
       "      <th></th>\n",
       "      <th></th>\n",
       "    </tr>\n",
       "  </thead>\n",
       "  <tbody>\n",
       "    <tr>\n",
       "      <th>General</th>\n",
       "      <td>6</td>\n",
       "      <td>25</td>\n",
       "      <td>83</td>\n",
       "      <td>166</td>\n",
       "      <td>294</td>\n",
       "      <td>489</td>\n",
       "      <td>614</td>\n",
       "      <td>759</td>\n",
       "      <td>782</td>\n",
       "      <td>839</td>\n",
       "      <td>...</td>\n",
       "      <td>75</td>\n",
       "      <td>77</td>\n",
       "      <td>47</td>\n",
       "      <td>55</td>\n",
       "      <td>36</td>\n",
       "      <td>26</td>\n",
       "      <td>32</td>\n",
       "      <td>5</td>\n",
       "      <td>3</td>\n",
       "      <td>12474</td>\n",
       "    </tr>\n",
       "    <tr>\n",
       "      <th>Junior Manager</th>\n",
       "      <td>0</td>\n",
       "      <td>4</td>\n",
       "      <td>14</td>\n",
       "      <td>42</td>\n",
       "      <td>80</td>\n",
       "      <td>119</td>\n",
       "      <td>161</td>\n",
       "      <td>205</td>\n",
       "      <td>240</td>\n",
       "      <td>273</td>\n",
       "      <td>...</td>\n",
       "      <td>56</td>\n",
       "      <td>78</td>\n",
       "      <td>54</td>\n",
       "      <td>46</td>\n",
       "      <td>23</td>\n",
       "      <td>29</td>\n",
       "      <td>21</td>\n",
       "      <td>6</td>\n",
       "      <td>0</td>\n",
       "      <td>6867</td>\n",
       "    </tr>\n",
       "    <tr>\n",
       "      <th>Middle Manager</th>\n",
       "      <td>0</td>\n",
       "      <td>0</td>\n",
       "      <td>7</td>\n",
       "      <td>31</td>\n",
       "      <td>40</td>\n",
       "      <td>79</td>\n",
       "      <td>126</td>\n",
       "      <td>174</td>\n",
       "      <td>218</td>\n",
       "      <td>253</td>\n",
       "      <td>...</td>\n",
       "      <td>88</td>\n",
       "      <td>76</td>\n",
       "      <td>86</td>\n",
       "      <td>83</td>\n",
       "      <td>55</td>\n",
       "      <td>48</td>\n",
       "      <td>32</td>\n",
       "      <td>10</td>\n",
       "      <td>4</td>\n",
       "      <td>7952</td>\n",
       "    </tr>\n",
       "    <tr>\n",
       "      <th>Senior Manager</th>\n",
       "      <td>0</td>\n",
       "      <td>0</td>\n",
       "      <td>0</td>\n",
       "      <td>0</td>\n",
       "      <td>0</td>\n",
       "      <td>0</td>\n",
       "      <td>0</td>\n",
       "      <td>4</td>\n",
       "      <td>8</td>\n",
       "      <td>8</td>\n",
       "      <td>...</td>\n",
       "      <td>40</td>\n",
       "      <td>48</td>\n",
       "      <td>41</td>\n",
       "      <td>35</td>\n",
       "      <td>20</td>\n",
       "      <td>19</td>\n",
       "      <td>17</td>\n",
       "      <td>3</td>\n",
       "      <td>5</td>\n",
       "      <td>2988</td>\n",
       "    </tr>\n",
       "    <tr>\n",
       "      <th>Top Manager</th>\n",
       "      <td>0</td>\n",
       "      <td>0</td>\n",
       "      <td>0</td>\n",
       "      <td>0</td>\n",
       "      <td>0</td>\n",
       "      <td>0</td>\n",
       "      <td>0</td>\n",
       "      <td>0</td>\n",
       "      <td>0</td>\n",
       "      <td>0</td>\n",
       "      <td>...</td>\n",
       "      <td>1</td>\n",
       "      <td>0</td>\n",
       "      <td>4</td>\n",
       "      <td>0</td>\n",
       "      <td>1</td>\n",
       "      <td>0</td>\n",
       "      <td>0</td>\n",
       "      <td>0</td>\n",
       "      <td>0</td>\n",
       "      <td>43</td>\n",
       "    </tr>\n",
       "    <tr>\n",
       "      <th>All</th>\n",
       "      <td>6</td>\n",
       "      <td>29</td>\n",
       "      <td>104</td>\n",
       "      <td>239</td>\n",
       "      <td>414</td>\n",
       "      <td>687</td>\n",
       "      <td>901</td>\n",
       "      <td>1142</td>\n",
       "      <td>1248</td>\n",
       "      <td>1373</td>\n",
       "      <td>...</td>\n",
       "      <td>260</td>\n",
       "      <td>279</td>\n",
       "      <td>232</td>\n",
       "      <td>219</td>\n",
       "      <td>135</td>\n",
       "      <td>122</td>\n",
       "      <td>102</td>\n",
       "      <td>24</td>\n",
       "      <td>12</td>\n",
       "      <td>30324</td>\n",
       "    </tr>\n",
       "  </tbody>\n",
       "</table>\n",
       "<p>6 rows × 46 columns</p>\n",
       "</div>"
      ],
      "text/plain": [
       "Age             20  21   22   23   24   25   26    27    28    29  ...   56  \\\n",
       "LevelBand                                                          ...        \n",
       "General          6  25   83  166  294  489  614   759   782   839  ...   75   \n",
       "Junior Manager   0   4   14   42   80  119  161   205   240   273  ...   56   \n",
       "Middle Manager   0   0    7   31   40   79  126   174   218   253  ...   88   \n",
       "Senior Manager   0   0    0    0    0    0    0     4     8     8  ...   40   \n",
       "Top Manager      0   0    0    0    0    0    0     0     0     0  ...    1   \n",
       "All              6  29  104  239  414  687  901  1142  1248  1373  ...  260   \n",
       "\n",
       "Age              57   58   59   60   61   62  63  64    All  \n",
       "LevelBand                                                    \n",
       "General          77   47   55   36   26   32   5   3  12474  \n",
       "Junior Manager   78   54   46   23   29   21   6   0   6867  \n",
       "Middle Manager   76   86   83   55   48   32  10   4   7952  \n",
       "Senior Manager   48   41   35   20   19   17   3   5   2988  \n",
       "Top Manager       0    4    0    1    0    0   0   0     43  \n",
       "All             279  232  219  135  122  102  24  12  30324  \n",
       "\n",
       "[6 rows x 46 columns]"
      ]
     },
     "execution_count": 33,
     "metadata": {},
     "output_type": "execute_result"
    }
   ],
   "source": [
    "my_tab = pd.crosstab(index=df[\"LevelBand\"],  # Make a crosstab\n",
    "                              columns=df[\"Age\"],\n",
    "                    margins = True) \n",
    "my_tab"
   ]
  },
  {
   "cell_type": "code",
   "execution_count": 34,
   "metadata": {},
   "outputs": [],
   "source": [
    "x = df.loc[2]"
   ]
  },
  {
   "cell_type": "code",
   "execution_count": 35,
   "metadata": {},
   "outputs": [
    {
     "data": {
      "text/plain": [
       "PersonnelNumber                   156688\n",
       "EmployeeGrade                      SBG10\n",
       "LengthOfService                       12\n",
       "Age                                   31\n",
       "EEOccupationalLevelKey                 5\n",
       "LevelBand                 Junior Manager\n",
       "Name: 2, dtype: object"
      ]
     },
     "execution_count": 35,
     "metadata": {},
     "output_type": "execute_result"
    }
   ],
   "source": [
    "x"
   ]
  },
  {
   "cell_type": "code",
   "execution_count": 36,
   "metadata": {},
   "outputs": [
    {
     "data": {
      "text/html": [
       "<div>\n",
       "<style scoped>\n",
       "    .dataframe tbody tr th:only-of-type {\n",
       "        vertical-align: middle;\n",
       "    }\n",
       "\n",
       "    .dataframe tbody tr th {\n",
       "        vertical-align: top;\n",
       "    }\n",
       "\n",
       "    .dataframe thead th {\n",
       "        text-align: right;\n",
       "    }\n",
       "</style>\n",
       "<table border=\"1\" class=\"dataframe\">\n",
       "  <thead>\n",
       "    <tr style=\"text-align: right;\">\n",
       "      <th></th>\n",
       "      <th>PersonnelNumber</th>\n",
       "      <th>EmployeeGrade</th>\n",
       "      <th>LengthOfService</th>\n",
       "      <th>Age</th>\n",
       "      <th>EEOccupationalLevelKey</th>\n",
       "      <th>LevelBand</th>\n",
       "    </tr>\n",
       "  </thead>\n",
       "  <tbody>\n",
       "    <tr>\n",
       "      <th>0</th>\n",
       "      <td>109204</td>\n",
       "      <td>SBG07</td>\n",
       "      <td>20</td>\n",
       "      <td>60</td>\n",
       "      <td>1</td>\n",
       "      <td>General</td>\n",
       "    </tr>\n",
       "    <tr>\n",
       "      <th>1</th>\n",
       "      <td>101058</td>\n",
       "      <td>EM05</td>\n",
       "      <td>23</td>\n",
       "      <td>41</td>\n",
       "      <td>3</td>\n",
       "      <td>Senior Manager</td>\n",
       "    </tr>\n",
       "    <tr>\n",
       "      <th>2</th>\n",
       "      <td>156688</td>\n",
       "      <td>SBG10</td>\n",
       "      <td>12</td>\n",
       "      <td>31</td>\n",
       "      <td>5</td>\n",
       "      <td>Junior Manager</td>\n",
       "    </tr>\n",
       "    <tr>\n",
       "      <th>3</th>\n",
       "      <td>159748</td>\n",
       "      <td>SBG10</td>\n",
       "      <td>1</td>\n",
       "      <td>33</td>\n",
       "      <td>5</td>\n",
       "      <td>Junior Manager</td>\n",
       "    </tr>\n",
       "    <tr>\n",
       "      <th>4</th>\n",
       "      <td>209182</td>\n",
       "      <td>SBG07</td>\n",
       "      <td>5</td>\n",
       "      <td>35</td>\n",
       "      <td>1</td>\n",
       "      <td>General</td>\n",
       "    </tr>\n",
       "  </tbody>\n",
       "</table>\n",
       "</div>"
      ],
      "text/plain": [
       "   PersonnelNumber EmployeeGrade  LengthOfService  Age  \\\n",
       "0           109204         SBG07               20   60   \n",
       "1           101058          EM05               23   41   \n",
       "2           156688         SBG10               12   31   \n",
       "3           159748         SBG10                1   33   \n",
       "4           209182         SBG07                5   35   \n",
       "\n",
       "   EEOccupationalLevelKey       LevelBand  \n",
       "0                       1         General  \n",
       "1                       3  Senior Manager  \n",
       "2                       5  Junior Manager  \n",
       "3                       5  Junior Manager  \n",
       "4                       1         General  "
      ]
     },
     "execution_count": 36,
     "metadata": {},
     "output_type": "execute_result"
    }
   ],
   "source": [
    "df.head()"
   ]
  },
  {
   "cell_type": "code",
   "execution_count": 37,
   "metadata": {},
   "outputs": [
    {
     "data": {
      "text/html": [
       "<div>\n",
       "<style scoped>\n",
       "    .dataframe tbody tr th:only-of-type {\n",
       "        vertical-align: middle;\n",
       "    }\n",
       "\n",
       "    .dataframe tbody tr th {\n",
       "        vertical-align: top;\n",
       "    }\n",
       "\n",
       "    .dataframe thead th {\n",
       "        text-align: right;\n",
       "    }\n",
       "</style>\n",
       "<table border=\"1\" class=\"dataframe\">\n",
       "  <thead>\n",
       "    <tr style=\"text-align: right;\">\n",
       "      <th></th>\n",
       "      <th>EEOccupationalLevelKey</th>\n",
       "      <th>LevelBand</th>\n",
       "    </tr>\n",
       "  </thead>\n",
       "  <tbody>\n",
       "    <tr>\n",
       "      <th>5</th>\n",
       "      <td>2</td>\n",
       "      <td>General</td>\n",
       "    </tr>\n",
       "    <tr>\n",
       "      <th>21</th>\n",
       "      <td>2</td>\n",
       "      <td>General</td>\n",
       "    </tr>\n",
       "    <tr>\n",
       "      <th>28</th>\n",
       "      <td>2</td>\n",
       "      <td>General</td>\n",
       "    </tr>\n",
       "    <tr>\n",
       "      <th>32</th>\n",
       "      <td>2</td>\n",
       "      <td>General</td>\n",
       "    </tr>\n",
       "    <tr>\n",
       "      <th>33</th>\n",
       "      <td>2</td>\n",
       "      <td>General</td>\n",
       "    </tr>\n",
       "  </tbody>\n",
       "</table>\n",
       "</div>"
      ],
      "text/plain": [
       "    EEOccupationalLevelKey LevelBand\n",
       "5                        2   General\n",
       "21                       2   General\n",
       "28                       2   General\n",
       "32                       2   General\n",
       "33                       2   General"
      ]
     },
     "execution_count": 37,
     "metadata": {},
     "output_type": "execute_result"
    }
   ],
   "source": [
    "EKey = df.loc[(df['EEOccupationalLevelKey'] == 2)&(df['LevelBand'] == 'General'),['EEOccupationalLevelKey','LevelBand']]\n",
    "EKey.head()"
   ]
  },
  {
   "cell_type": "code",
   "execution_count": 38,
   "metadata": {},
   "outputs": [
    {
     "data": {
      "text/html": [
       "<div>\n",
       "<style scoped>\n",
       "    .dataframe tbody tr th:only-of-type {\n",
       "        vertical-align: middle;\n",
       "    }\n",
       "\n",
       "    .dataframe tbody tr th {\n",
       "        vertical-align: top;\n",
       "    }\n",
       "\n",
       "    .dataframe thead th {\n",
       "        text-align: right;\n",
       "    }\n",
       "</style>\n",
       "<table border=\"1\" class=\"dataframe\">\n",
       "  <thead>\n",
       "    <tr style=\"text-align: right;\">\n",
       "      <th></th>\n",
       "      <th>EEOccupationalLevelKey</th>\n",
       "    </tr>\n",
       "  </thead>\n",
       "  <tbody>\n",
       "    <tr>\n",
       "      <th>count</th>\n",
       "      <td>5200.0</td>\n",
       "    </tr>\n",
       "    <tr>\n",
       "      <th>mean</th>\n",
       "      <td>2.0</td>\n",
       "    </tr>\n",
       "    <tr>\n",
       "      <th>std</th>\n",
       "      <td>0.0</td>\n",
       "    </tr>\n",
       "    <tr>\n",
       "      <th>min</th>\n",
       "      <td>2.0</td>\n",
       "    </tr>\n",
       "    <tr>\n",
       "      <th>25%</th>\n",
       "      <td>2.0</td>\n",
       "    </tr>\n",
       "    <tr>\n",
       "      <th>50%</th>\n",
       "      <td>2.0</td>\n",
       "    </tr>\n",
       "    <tr>\n",
       "      <th>75%</th>\n",
       "      <td>2.0</td>\n",
       "    </tr>\n",
       "    <tr>\n",
       "      <th>max</th>\n",
       "      <td>2.0</td>\n",
       "    </tr>\n",
       "  </tbody>\n",
       "</table>\n",
       "</div>"
      ],
      "text/plain": [
       "       EEOccupationalLevelKey\n",
       "count                  5200.0\n",
       "mean                      2.0\n",
       "std                       0.0\n",
       "min                       2.0\n",
       "25%                       2.0\n",
       "50%                       2.0\n",
       "75%                       2.0\n",
       "max                       2.0"
      ]
     },
     "execution_count": 38,
     "metadata": {},
     "output_type": "execute_result"
    }
   ],
   "source": [
    "EKey.describe()"
   ]
  },
  {
   "cell_type": "code",
   "execution_count": null,
   "metadata": {},
   "outputs": [],
   "source": []
  },
  {
   "cell_type": "code",
   "execution_count": null,
   "metadata": {},
   "outputs": [],
   "source": []
  },
  {
   "cell_type": "code",
   "execution_count": 39,
   "metadata": {},
   "outputs": [
    {
     "data": {
      "text/plain": [
       "[<matplotlib.lines.Line2D at 0x1fd68beb240>]"
      ]
     },
     "execution_count": 39,
     "metadata": {},
     "output_type": "execute_result"
    },
    {
     "data": {
      "image/png": "[encoded data removed]",
      "text/plain": [
       "<Figure size 432x288 with 1 Axes>"
      ]
     },
     "metadata": {
      "needs_background": "light"
     },
     "output_type": "display_data"
    }
   ],
   "source": [
    "\n",
    "plt.plot(df['Age'],df['LengthOfService'],'bo')"
   ]
  },
  {
   "cell_type": "code",
   "execution_count": 40,
   "metadata": {},
   "outputs": [
    {
     "data": {
      "text/plain": [
       "(30324, 6)"
      ]
     },
     "execution_count": 40,
     "metadata": {},
     "output_type": "execute_result"
    }
   ],
   "source": [
    "df.shape"
   ]
  },
  {
   "cell_type": "markdown",
   "metadata": {},
   "source": [
    "df1 = df['LevelBand'] == 'General'"
   ]
  },
  {
   "cell_type": "code",
   "execution_count": 41,
   "metadata": {},
   "outputs": [],
   "source": [
    "df1 = df[df.LevelBand == 'General']"
   ]
  },
  {
   "cell_type": "code",
   "execution_count": 42,
   "metadata": {},
   "outputs": [
    {
     "data": {
      "text/plain": [
       "(12474, 6)"
      ]
     },
     "execution_count": 42,
     "metadata": {},
     "output_type": "execute_result"
    }
   ],
   "source": [
    "df1.shape"
   ]
  },
  {
   "cell_type": "code",
   "execution_count": 43,
   "metadata": {},
   "outputs": [
    {
     "data": {
      "text/plain": [
       "[<matplotlib.lines.Line2D at 0x1fd68c84ac8>]"
      ]
     },
     "execution_count": 43,
     "metadata": {},
     "output_type": "execute_result"
    },
    {
     "data": {
      "image/png": "[encoded data removed]",
      "text/plain": [
       "<Figure size 432x288 with 1 Axes>"
      ]
     },
     "metadata": {
      "needs_background": "light"
     },
     "output_type": "display_data"
    }
   ],
   "source": [
    "plt.plot(df1['Age'],df1['LengthOfService'],'bo')"
   ]
  },
  {
   "cell_type": "code",
   "execution_count": 44,
   "metadata": {},
   "outputs": [],
   "source": [
    "import seaborn as sns"
   ]
  },
  {
   "cell_type": "code",
   "execution_count": 45,
   "metadata": {},
   "outputs": [
    {
     "data": {
      "text/plain": [
       "<matplotlib.axes._subplots.AxesSubplot at 0x1fd6caef780>"
      ]
     },
     "execution_count": 45,
     "metadata": {},
     "output_type": "execute_result"
    },
    {
     "data": {
      "image/png": "[encoded data removed]",
      "text/plain": [
       "<Figure size 432x288 with 1 Axes>"
      ]
     },
     "metadata": {
      "needs_background": "light"
     },
     "output_type": "display_data"
    }
   ],
   "source": [
    "sns.boxplot(x='Age', hue = 'EEOccupationalLevelKey', data = df1, palette= 'Set1' )"
   ]
  },
  {
   "cell_type": "code",
   "execution_count": 46,
   "metadata": {},
   "outputs": [
    {
     "data": {
      "text/plain": [
       "<matplotlib.axes._subplots.AxesSubplot at 0x1fd68aaeb38>"
      ]
     },
     "execution_count": 46,
     "metadata": {},
     "output_type": "execute_result"
    },
    {
     "data": {
      "image/png": "[encoded data removed]",
      "text/plain": [
       "<Figure size 432x288 with 1 Axes>"
      ]
     },
     "metadata": {
      "needs_background": "light"
     },
     "output_type": "display_data"
    }
   ],
   "source": [
    "sns.boxplot(x='LengthOfService', hue = 'EEOccupationalLevelKey', data = df1, palette= 'Set1' )"
   ]
  },
  {
   "cell_type": "code",
   "execution_count": 47,
   "metadata": {},
   "outputs": [],
   "source": [
    " a = df1['Age']>=53\n",
    "    "
   ]
  },
  {
   "cell_type": "code",
   "execution_count": 48,
   "metadata": {},
   "outputs": [
    {
     "data": {
      "text/plain": [
       "0      True\n",
       "4     False\n",
       "5      True\n",
       "10    False\n",
       "12    False\n",
       "Name: Age, dtype: bool"
      ]
     },
     "execution_count": 48,
     "metadata": {},
     "output_type": "execute_result"
    }
   ],
   "source": [
    "a.head()"
   ]
  },
  {
   "cell_type": "code",
   "execution_count": 49,
   "metadata": {},
   "outputs": [
    {
     "data": {
      "text/plain": [
       "PersonnelNumber           509\n",
       "EmployeeGrade             509\n",
       "LengthOfService           509\n",
       "Age                       509\n",
       "EEOccupationalLevelKey    509\n",
       "LevelBand                 509\n",
       "dtype: int64"
      ]
     },
     "execution_count": 49,
     "metadata": {},
     "output_type": "execute_result"
    }
   ],
   "source": [
    "outlier = df1[df1['Age']>53].count()\n",
    "outlier"
   ]
  },
  {
   "cell_type": "code",
   "execution_count": 50,
   "metadata": {},
   "outputs": [
    {
     "name": "stdout",
     "output_type": "stream",
     "text": [
      "<class 'pandas.core.frame.DataFrame'>\n",
      "Int64Index: 12474 entries, 0 to 30320\n",
      "Data columns (total 6 columns):\n",
      "PersonnelNumber           12474 non-null int64\n",
      "EmployeeGrade             12474 non-null object\n",
      "LengthOfService           12474 non-null int64\n",
      "Age                       12474 non-null int64\n",
      "EEOccupationalLevelKey    12474 non-null int64\n",
      "LevelBand                 12474 non-null object\n",
      "dtypes: int64(4), object(2)\n",
      "memory usage: 682.2+ KB\n"
     ]
    }
   ],
   "source": [
    "df1.info()"
   ]
  },
  {
   "cell_type": "code",
   "execution_count": 51,
   "metadata": {},
   "outputs": [
    {
     "data": {
      "text/html": [
       "<div>\n",
       "<style scoped>\n",
       "    .dataframe tbody tr th:only-of-type {\n",
       "        vertical-align: middle;\n",
       "    }\n",
       "\n",
       "    .dataframe tbody tr th {\n",
       "        vertical-align: top;\n",
       "    }\n",
       "\n",
       "    .dataframe thead th {\n",
       "        text-align: right;\n",
       "    }\n",
       "</style>\n",
       "<table border=\"1\" class=\"dataframe\">\n",
       "  <thead>\n",
       "    <tr style=\"text-align: right;\">\n",
       "      <th></th>\n",
       "      <th>PersonnelNumber</th>\n",
       "      <th>LengthOfService</th>\n",
       "      <th>Age</th>\n",
       "      <th>EEOccupationalLevelKey</th>\n",
       "    </tr>\n",
       "  </thead>\n",
       "  <tbody>\n",
       "    <tr>\n",
       "      <th>count</th>\n",
       "      <td>12474.000000</td>\n",
       "      <td>12474.000000</td>\n",
       "      <td>12474.000000</td>\n",
       "      <td>12474.000000</td>\n",
       "    </tr>\n",
       "    <tr>\n",
       "      <th>mean</th>\n",
       "      <td>187166.571028</td>\n",
       "      <td>6.858025</td>\n",
       "      <td>34.297900</td>\n",
       "      <td>1.416867</td>\n",
       "    </tr>\n",
       "    <tr>\n",
       "      <th>std</th>\n",
       "      <td>48516.881033</td>\n",
       "      <td>6.737877</td>\n",
       "      <td>8.257166</td>\n",
       "      <td>0.493060</td>\n",
       "    </tr>\n",
       "    <tr>\n",
       "      <th>min</th>\n",
       "      <td>243.000000</td>\n",
       "      <td>0.000000</td>\n",
       "      <td>20.000000</td>\n",
       "      <td>1.000000</td>\n",
       "    </tr>\n",
       "    <tr>\n",
       "      <th>25%</th>\n",
       "      <td>159101.750000</td>\n",
       "      <td>3.000000</td>\n",
       "      <td>28.000000</td>\n",
       "      <td>1.000000</td>\n",
       "    </tr>\n",
       "    <tr>\n",
       "      <th>50%</th>\n",
       "      <td>210841.000000</td>\n",
       "      <td>4.000000</td>\n",
       "      <td>32.000000</td>\n",
       "      <td>1.000000</td>\n",
       "    </tr>\n",
       "    <tr>\n",
       "      <th>75%</th>\n",
       "      <td>219491.750000</td>\n",
       "      <td>9.000000</td>\n",
       "      <td>38.000000</td>\n",
       "      <td>2.000000</td>\n",
       "    </tr>\n",
       "    <tr>\n",
       "      <th>max</th>\n",
       "      <td>238578.000000</td>\n",
       "      <td>45.000000</td>\n",
       "      <td>64.000000</td>\n",
       "      <td>2.000000</td>\n",
       "    </tr>\n",
       "  </tbody>\n",
       "</table>\n",
       "</div>"
      ],
      "text/plain": [
       "       PersonnelNumber  LengthOfService           Age  EEOccupationalLevelKey\n",
       "count     12474.000000     12474.000000  12474.000000            12474.000000\n",
       "mean     187166.571028         6.858025     34.297900                1.416867\n",
       "std       48516.881033         6.737877      8.257166                0.493060\n",
       "min         243.000000         0.000000     20.000000                1.000000\n",
       "25%      159101.750000         3.000000     28.000000                1.000000\n",
       "50%      210841.000000         4.000000     32.000000                1.000000\n",
       "75%      219491.750000         9.000000     38.000000                2.000000\n",
       "max      238578.000000        45.000000     64.000000                2.000000"
      ]
     },
     "execution_count": 51,
     "metadata": {},
     "output_type": "execute_result"
    }
   ],
   "source": [
    "df1.describe()"
   ]
  },
  {
   "cell_type": "code",
   "execution_count": 52,
   "metadata": {},
   "outputs": [],
   "source": [
    "outlier = df1[df1['Age']>53]"
   ]
  },
  {
   "cell_type": "code",
   "execution_count": 53,
   "metadata": {},
   "outputs": [
    {
     "data": {
      "text/html": [
       "<div>\n",
       "<style scoped>\n",
       "    .dataframe tbody tr th:only-of-type {\n",
       "        vertical-align: middle;\n",
       "    }\n",
       "\n",
       "    .dataframe tbody tr th {\n",
       "        vertical-align: top;\n",
       "    }\n",
       "\n",
       "    .dataframe thead th {\n",
       "        text-align: right;\n",
       "    }\n",
       "</style>\n",
       "<table border=\"1\" class=\"dataframe\">\n",
       "  <thead>\n",
       "    <tr style=\"text-align: right;\">\n",
       "      <th></th>\n",
       "      <th>PersonnelNumber</th>\n",
       "      <th>LengthOfService</th>\n",
       "      <th>Age</th>\n",
       "      <th>EEOccupationalLevelKey</th>\n",
       "    </tr>\n",
       "  </thead>\n",
       "  <tbody>\n",
       "    <tr>\n",
       "      <th>count</th>\n",
       "      <td>509.00000</td>\n",
       "      <td>509.000000</td>\n",
       "      <td>509.000000</td>\n",
       "      <td>509.000000</td>\n",
       "    </tr>\n",
       "    <tr>\n",
       "      <th>mean</th>\n",
       "      <td>81297.40668</td>\n",
       "      <td>21.306483</td>\n",
       "      <td>57.235756</td>\n",
       "      <td>1.284872</td>\n",
       "    </tr>\n",
       "    <tr>\n",
       "      <th>std</th>\n",
       "      <td>51366.80650</td>\n",
       "      <td>10.695885</td>\n",
       "      <td>2.504999</td>\n",
       "      <td>0.451798</td>\n",
       "    </tr>\n",
       "    <tr>\n",
       "      <th>min</th>\n",
       "      <td>243.00000</td>\n",
       "      <td>0.000000</td>\n",
       "      <td>54.000000</td>\n",
       "      <td>1.000000</td>\n",
       "    </tr>\n",
       "    <tr>\n",
       "      <th>25%</th>\n",
       "      <td>36427.00000</td>\n",
       "      <td>14.000000</td>\n",
       "      <td>55.000000</td>\n",
       "      <td>1.000000</td>\n",
       "    </tr>\n",
       "    <tr>\n",
       "      <th>50%</th>\n",
       "      <td>80599.00000</td>\n",
       "      <td>20.000000</td>\n",
       "      <td>57.000000</td>\n",
       "      <td>1.000000</td>\n",
       "    </tr>\n",
       "    <tr>\n",
       "      <th>75%</th>\n",
       "      <td>116994.00000</td>\n",
       "      <td>30.000000</td>\n",
       "      <td>59.000000</td>\n",
       "      <td>2.000000</td>\n",
       "    </tr>\n",
       "    <tr>\n",
       "      <th>max</th>\n",
       "      <td>234849.00000</td>\n",
       "      <td>45.000000</td>\n",
       "      <td>64.000000</td>\n",
       "      <td>2.000000</td>\n",
       "    </tr>\n",
       "  </tbody>\n",
       "</table>\n",
       "</div>"
      ],
      "text/plain": [
       "       PersonnelNumber  LengthOfService         Age  EEOccupationalLevelKey\n",
       "count        509.00000       509.000000  509.000000              509.000000\n",
       "mean       81297.40668        21.306483   57.235756                1.284872\n",
       "std        51366.80650        10.695885    2.504999                0.451798\n",
       "min          243.00000         0.000000   54.000000                1.000000\n",
       "25%        36427.00000        14.000000   55.000000                1.000000\n",
       "50%        80599.00000        20.000000   57.000000                1.000000\n",
       "75%       116994.00000        30.000000   59.000000                2.000000\n",
       "max       234849.00000        45.000000   64.000000                2.000000"
      ]
     },
     "execution_count": 53,
     "metadata": {},
     "output_type": "execute_result"
    }
   ],
   "source": [
    "outlier.describe()"
   ]
  },
  {
   "cell_type": "code",
   "execution_count": 54,
   "metadata": {},
   "outputs": [],
   "source": [
    "q1, q3= np.percentile(df1['LengthOfService'],[25,75])\n"
   ]
  },
  {
   "cell_type": "markdown",
   "metadata": {},
   "source": [
    "q3"
   ]
  },
  {
   "cell_type": "code",
   "execution_count": 55,
   "metadata": {},
   "outputs": [
    {
     "data": {
      "text/plain": [
       "9.0"
      ]
     },
     "execution_count": 55,
     "metadata": {},
     "output_type": "execute_result"
    }
   ],
   "source": [
    "q3"
   ]
  },
  {
   "cell_type": "code",
   "execution_count": 56,
   "metadata": {},
   "outputs": [
    {
     "data": {
      "text/plain": [
       "3.0"
      ]
     },
     "execution_count": 56,
     "metadata": {},
     "output_type": "execute_result"
    }
   ],
   "source": [
    "q1"
   ]
  },
  {
   "cell_type": "code",
   "execution_count": 57,
   "metadata": {},
   "outputs": [
    {
     "data": {
      "text/plain": [
       "6.0"
      ]
     },
     "execution_count": 57,
     "metadata": {},
     "output_type": "execute_result"
    }
   ],
   "source": [
    "iqr = q3 - q1\n",
    "iqr"
   ]
  },
  {
   "cell_type": "code",
   "execution_count": 58,
   "metadata": {},
   "outputs": [
    {
     "data": {
      "text/plain": [
       "-6.0"
      ]
     },
     "execution_count": 58,
     "metadata": {},
     "output_type": "execute_result"
    }
   ],
   "source": [
    "lower_bound = q1 -(1.5 * iqr)\n",
    "lower_bound"
   ]
  },
  {
   "cell_type": "code",
   "execution_count": 59,
   "metadata": {},
   "outputs": [
    {
     "data": {
      "text/plain": [
       "18.0"
      ]
     },
     "execution_count": 59,
     "metadata": {},
     "output_type": "execute_result"
    }
   ],
   "source": [
    "upper_bound = q3 +(1.5 * iqr)\n",
    "upper_bound\n"
   ]
  },
  {
   "cell_type": "code",
   "execution_count": 60,
   "metadata": {},
   "outputs": [
    {
     "data": {
      "text/plain": [
       "4     5\n",
       "10    2\n",
       "12    6\n",
       "14    4\n",
       "15    7\n",
       "Name: LengthOfService, dtype: int64"
      ]
     },
     "execution_count": 60,
     "metadata": {},
     "output_type": "execute_result"
    }
   ],
   "source": [
    "df2 = df1[df1['LengthOfService']<=18]\n",
    "df2['LengthOfService'].head()"
   ]
  },
  {
   "cell_type": "code",
   "execution_count": 61,
   "metadata": {},
   "outputs": [
    {
     "data": {
      "text/plain": [
       "<matplotlib.axes._subplots.AxesSubplot at 0x1fd6cbc0860>"
      ]
     },
     "execution_count": 61,
     "metadata": {},
     "output_type": "execute_result"
    },
    {
     "data": {
      "image/png": "[encoded data removed]",
      "text/plain": [
       "<Figure size 432x288 with 1 Axes>"
      ]
     },
     "metadata": {
      "needs_background": "light"
     },
     "output_type": "display_data"
    }
   ],
   "source": [
    "sns.boxplot(x='LengthOfService', hue = 'EEOccupationalLevelKey', data = df2, palette= 'Set1' )"
   ]
  },
  {
   "cell_type": "code",
   "execution_count": 62,
   "metadata": {},
   "outputs": [
    {
     "data": {
      "text/html": [
       "<div>\n",
       "<style scoped>\n",
       "    .dataframe tbody tr th:only-of-type {\n",
       "        vertical-align: middle;\n",
       "    }\n",
       "\n",
       "    .dataframe tbody tr th {\n",
       "        vertical-align: top;\n",
       "    }\n",
       "\n",
       "    .dataframe thead th {\n",
       "        text-align: right;\n",
       "    }\n",
       "</style>\n",
       "<table border=\"1\" class=\"dataframe\">\n",
       "  <thead>\n",
       "    <tr style=\"text-align: right;\">\n",
       "      <th>LengthOfService</th>\n",
       "      <th>0</th>\n",
       "      <th>1</th>\n",
       "      <th>2</th>\n",
       "      <th>3</th>\n",
       "      <th>4</th>\n",
       "      <th>5</th>\n",
       "      <th>6</th>\n",
       "      <th>7</th>\n",
       "      <th>8</th>\n",
       "      <th>9</th>\n",
       "      <th>10</th>\n",
       "      <th>11</th>\n",
       "      <th>12</th>\n",
       "      <th>13</th>\n",
       "      <th>14</th>\n",
       "      <th>15</th>\n",
       "      <th>16</th>\n",
       "      <th>17</th>\n",
       "      <th>18</th>\n",
       "      <th>All</th>\n",
       "    </tr>\n",
       "    <tr>\n",
       "      <th>LevelBand</th>\n",
       "      <th></th>\n",
       "      <th></th>\n",
       "      <th></th>\n",
       "      <th></th>\n",
       "      <th></th>\n",
       "      <th></th>\n",
       "      <th></th>\n",
       "      <th></th>\n",
       "      <th></th>\n",
       "      <th></th>\n",
       "      <th></th>\n",
       "      <th></th>\n",
       "      <th></th>\n",
       "      <th></th>\n",
       "      <th></th>\n",
       "      <th></th>\n",
       "      <th></th>\n",
       "      <th></th>\n",
       "      <th></th>\n",
       "      <th></th>\n",
       "    </tr>\n",
       "  </thead>\n",
       "  <tbody>\n",
       "    <tr>\n",
       "      <th>General</th>\n",
       "      <td>869</td>\n",
       "      <td>769</td>\n",
       "      <td>847</td>\n",
       "      <td>1307</td>\n",
       "      <td>3545</td>\n",
       "      <td>643</td>\n",
       "      <td>473</td>\n",
       "      <td>260</td>\n",
       "      <td>134</td>\n",
       "      <td>548</td>\n",
       "      <td>217</td>\n",
       "      <td>376</td>\n",
       "      <td>495</td>\n",
       "      <td>302</td>\n",
       "      <td>274</td>\n",
       "      <td>131</td>\n",
       "      <td>135</td>\n",
       "      <td>155</td>\n",
       "      <td>130</td>\n",
       "      <td>11610</td>\n",
       "    </tr>\n",
       "    <tr>\n",
       "      <th>All</th>\n",
       "      <td>869</td>\n",
       "      <td>769</td>\n",
       "      <td>847</td>\n",
       "      <td>1307</td>\n",
       "      <td>3545</td>\n",
       "      <td>643</td>\n",
       "      <td>473</td>\n",
       "      <td>260</td>\n",
       "      <td>134</td>\n",
       "      <td>548</td>\n",
       "      <td>217</td>\n",
       "      <td>376</td>\n",
       "      <td>495</td>\n",
       "      <td>302</td>\n",
       "      <td>274</td>\n",
       "      <td>131</td>\n",
       "      <td>135</td>\n",
       "      <td>155</td>\n",
       "      <td>130</td>\n",
       "      <td>11610</td>\n",
       "    </tr>\n",
       "  </tbody>\n",
       "</table>\n",
       "</div>"
      ],
      "text/plain": [
       "LengthOfService    0    1    2     3     4    5    6    7    8    9   10   11  \\\n",
       "LevelBand                                                                       \n",
       "General          869  769  847  1307  3545  643  473  260  134  548  217  376   \n",
       "All              869  769  847  1307  3545  643  473  260  134  548  217  376   \n",
       "\n",
       "LengthOfService   12   13   14   15   16   17   18    All  \n",
       "LevelBand                                                  \n",
       "General          495  302  274  131  135  155  130  11610  \n",
       "All              495  302  274  131  135  155  130  11610  "
      ]
     },
     "execution_count": 62,
     "metadata": {},
     "output_type": "execute_result"
    }
   ],
   "source": [
    "pd.crosstab(index=df2[\"LevelBand\"],  # Make a crosstab\n",
    "                              columns=df2[\"LengthOfService\"],\n",
    "                    margins = True) "
   ]
  },
  {
   "cell_type": "code",
   "execution_count": 63,
   "metadata": {
    "scrolled": true
   },
   "outputs": [
    {
     "data": {
      "text/plain": [
       "[<matplotlib.lines.Line2D at 0x1fd6cc262b0>]"
      ]
     },
     "execution_count": 63,
     "metadata": {},
     "output_type": "execute_result"
    },
    {
     "data": {
      "image/png": "[encoded data removed]",
      "text/plain": [
       "<Figure size 432x288 with 1 Axes>"
      ]
     },
     "metadata": {
      "needs_background": "light"
     },
     "output_type": "display_data"
    }
   ],
   "source": [
    "plt.plot(df2['Age'],df2['LengthOfService'],'bo')"
   ]
  },
  {
   "cell_type": "code",
   "execution_count": 64,
   "metadata": {},
   "outputs": [
    {
     "data": {
      "image/png": "[encoded data removed]",
      "text/plain": [
       "<Figure size 432x288 with 1 Axes>"
      ]
     },
     "metadata": {
      "needs_background": "light"
     },
     "output_type": "display_data"
    }
   ],
   "source": [
    "plt.hist(df2['LengthOfService'],bins =\"auto\")\n",
    "plt.show()"
   ]
  },
  {
   "cell_type": "code",
   "execution_count": 65,
   "metadata": {},
   "outputs": [
    {
     "data": {
      "image/png": "[encoded data removed]",
      "text/plain": [
       "<Figure size 432x288 with 1 Axes>"
      ]
     },
     "execution_count": 65,
     "metadata": {},
     "output_type": "execute_result"
    },
    {
     "data": {
      "image/png": "[encoded data removed]",
      "text/plain": [
       "<Figure size 432x288 with 1 Axes>"
      ]
     },
     "metadata": {
      "needs_background": "light"
     },
     "output_type": "display_data"
    }
   ],
   "source": [
    "from statsmodels.graphics.gofplots import qqplot\n",
    "qqplot(df2['LengthOfService'],line= 's')\n",
    "#pyplot.show()"
   ]
  },
  {
   "cell_type": "code",
   "execution_count": 66,
   "metadata": {},
   "outputs": [
    {
     "data": {
      "text/plain": [
       "(11610, 6)"
      ]
     },
     "execution_count": 66,
     "metadata": {},
     "output_type": "execute_result"
    }
   ],
   "source": [
    "df2.shape"
   ]
  },
  {
   "cell_type": "code",
   "execution_count": 67,
   "metadata": {},
   "outputs": [
    {
     "name": "stdout",
     "output_type": "stream",
     "text": [
      "Statistics=0.865, p=0.000\n",
      "Sample does not look Gaussian (reject H0)\n"
     ]
    },
    {
     "name": "stderr",
     "output_type": "stream",
     "text": [
      "C:\\Users\\a236885\\AppData\\Local\\Continuum\\anaconda3\\lib\\site-packages\\scipy\\stats\\morestats.py:1653: UserWarning: p-value may not be accurate for N > 5000.\n",
      "  warnings.warn(\"p-value may not be accurate for N > 5000.\")\n"
     ]
    }
   ],
   "source": [
    "from numpy.random import seed\n",
    "from scipy.stats import shapiro\n",
    "\n",
    "data = df2['LengthOfService']\n",
    "\n",
    "stat, p = shapiro(data)\n",
    "print('Statistics=%.3f, p=%.3f' % (stat, p))\n",
    "\n",
    "alpha = 0.05\n",
    "if p > alpha:\n",
    "    print('Sample looks Gaussian (fail to reject H0)')\n",
    "else:\n",
    "    print('Sample does not look Gaussian (reject H0)')\n"
   ]
  }
 ],
 "metadata": {
  "kernelspec": {
   "display_name": "Python 3",
   "language": "python",
   "name": "python3"
  },
  "language_info": {
   "codemirror_mode": {
    "name": "ipython",
    "version": 3
   },
   "file_extension": ".py",
   "mimetype": "text/x-python",
   "name": "python",
   "nbconvert_exporter": "python",
   "pygments_lexer": "ipython3",
   "version": "3.7.3"
  }
 },
 "nbformat": 4,
 "nbformat_minor": 2
}
